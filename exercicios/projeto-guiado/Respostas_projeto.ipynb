{
 "cells": [
  {
   "cell_type": "markdown",
   "metadata": {},
   "source": [
    "**Finalização do Projeto**\n",
    "\n",
    "**Perguntas para Reflexão:**\n",
    "\n",
    "1. Qual foi a média de valores de uma coluna específica?\n",
    "A Média da coluna TEMPERATURA DO AR - BULBO SECO, HORARIA (°C) foi aproximadamente: 23°C\n",
    "\n",
    "2. Qual o total de registros após a limpeza dos dados?\n",
    "8784 linhas e 11 colunas\n",
    "\n",
    "3. Quais foram os valores máximos e mínimos identificados?\n",
    "PRECIPITAÇÃO TOTAL, HORÁRIO (mm) - MÍN-0 | MÁX-44.800000\n",
    "TEMPERATURA DO AR - BULBO SECO, HORARIA (°C) - MÍN-0 | MÁX-40.600000\n",
    "TEMPERATURA DO PONTO DE ORVALHO (°C) - MÍN-0 | MÁX-25.800000\t\n",
    "UMIDADE RELATIVA DO AR, HORARIA (%) -MÍN-0 | MÁX-1.000000\n",
    "RADIACAO GLOBAL (Kj/m²)\t- MÍN-0 | MÁX-4085.400000\n",
    "VENTO, DIREÇÃO HORARIA (gr) (° (gr)) - MÍN-0 | MÁX-360.000000\n",
    "VENTO, VELOCIDADE HORARIA (m/s) - MÍN-0 | MÁX-11.900000\n",
    "\n",
    "4. Quantos registros tinham valores nulos antes do tratamento?\n",
    "PRECIPITAÇÃO TOTAL, HORÁRIO (mm)                   6\n",
    "TEMPERATURA DO AR - BULBO SECO, HORARIA (°C)       6\n",
    "TEMPERATURA DO PONTO DE ORVALHO (°C)             466\n",
    "UMIDADE RELATIVA DO AR, HORARIA (%)              466\n",
    "RADIACAO GLOBAL (Kj/m²)                         4049\n",
    "VENTO, DIREÇÃO HORARIA (gr) (° (gr))               6\n",
    "VENTO, VELOCIDADE HORARIA (m/s)                    6\n",
    "TOTAL                                           5005\n",
    "\n",
    "5. Qual foi o impacto da normalização de uma coluna específica?\n",
    "Uniformidade na Escala de Dados - A conversão da coluna UMIDADE RELATIVA DO AR, HORARIA (%) nos permitiu trabalhar com todos os valores na mesma escala.\n",
    "\n",
    "\n",
    "6. Que padrões emergiram após a análise dos dados?\n",
    "A partir do gráfico, observamos que a temperatura do ar, em grande parte, esteve acima de 15°C no ano de 2020. Isso sugere que as condições durante o período analisado foram relativamente moderadas ou quentes.\n",
    "Em alguns poucos casos, a temperatura caiu abaixo de 15°C, cegando até 0°C. Podemos identificar uma mudança repentina no clima.\n",
    "\n",
    "\n",
    "7. Como os dados foram agrupados e quais insights foram gerados?\n",
    "Os dados foram agrupados por ano e organizados em um arquivo CSV específico para a cidade de Itaquirai. \n",
    "Insights gerados incluem: Períodos com Precipitações Acima da Média,Oscilações nas Temperaturas, Variações na Umidade, entre outros...\n",
    "\n",
    "8. Quais visualizações forneceram as informações mais valiosas?\n",
    "A tempetatura da cidade de Itaquirai\n",
    "\n",
    "9. Como o uso de SQL contribuiu para a organização dos resultados?\n",
    "\"SQL é extremamente eficaz para a organização e análise de dados, permitindo a filtragem e manipulação de grandes volumes de informações.\n",
    "\n",
    "10. De que forma os gráficos ajudaram na compreensão dos dados?\n",
    "De forma bem clara, o gráfico retornou a mudança na temperatura ao longo dos meses de 2020."
   ]
  }
 ],
 "metadata": {
  "language_info": {
   "name": "python"
  }
 },
 "nbformat": 4,
 "nbformat_minor": 2
}
